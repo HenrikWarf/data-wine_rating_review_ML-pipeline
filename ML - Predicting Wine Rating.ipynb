{
 "cells": [
  {
   "cell_type": "markdown",
   "metadata": {},
   "source": [
    "# Predicting a Wine Rating"
   ]
  },
  {
   "cell_type": "markdown",
   "metadata": {},
   "source": [
    "### The Data and Goal"
   ]
  },
  {
   "cell_type": "markdown",
   "metadata": {},
   "source": [
    "<b>Source</b> - The data that I have worked on within this project comes from Kaggle. You can find the data if you follow below link: <br>https://www.kaggle.com/zynicide/wine-reviews"
   ]
  },
  {
   "cell_type": "markdown",
   "metadata": {},
   "source": [
    "<b>Background</b> - The original idea behind the collection of the data was to find a way to predict what type of wine it is based on a description and review. I have in this project taken a different challenge and that is the one of predicting the wine rating based on the information we have about the specific wines in the dataset."
   ]
  },
  {
   "cell_type": "markdown",
   "metadata": {},
   "source": [
    "<b>Questions to answer</b>:\n",
    "1. What are the top 5 countries with the best overall average wine rating\n",
    "2. Is there a relationship between price and how good a wine is (rating)\n",
    "3. Can we predict the rating based on the data we have about the different wines"
   ]
  },
  {
   "cell_type": "markdown",
   "metadata": {},
   "source": [
    "### Contents - The Pipeline"
   ]
  },
  {
   "cell_type": "markdown",
   "metadata": {},
   "source": [
    "1. Import libraries and packages for use throughout the pipeline\n",
    "2. Check for and define the continous data variables\n",
    "3. Check for and define the categorical data types\n",
    "4. Investigate missing data and drop selected rows and column\n",
    "5. For categorical variables - create dummy variables\n",
    "6. Imputation\n",
    "7. Split data into explanatory and response variables\n",
    "8. Principal Component Analysis\n",
    "9. Create training and test data sets\n",
    "10. Train, Predict and Score\n",
    "12. Conclusions\n",
    "13. Discussion"
   ]
  },
  {
   "cell_type": "markdown",
   "metadata": {},
   "source": [
    "### 1. Import libraries and packages for use throughout the pipeline. "
   ]
  },
  {
   "cell_type": "markdown",
   "metadata": {},
   "source": [
    "Below imports will be used and needed to handle the data within this pipeline. I have chose to seperate the imports for the different machine learning models and placed them lower down in the pipeline as I like having them close to the code for training. "
   ]
  },
  {
   "cell_type": "code",
   "execution_count": 1,
   "metadata": {},
   "outputs": [],
   "source": [
    "import warnings\n",
    "warnings.filterwarnings('ignore')"
   ]
  },
  {
   "cell_type": "code",
   "execution_count": 2,
   "metadata": {},
   "outputs": [],
   "source": [
    "import numpy as np\n",
    "import pandas as pd\n",
    "import matplotlib.pyplot as plt\n",
    "from time import time\n",
    "from sklearn.decomposition import PCA\n",
    "from sklearn.preprocessing import StandardScaler\n",
    "from sklearn.model_selection import train_test_split\n",
    "from sklearn.metrics import r2_score, mean_squared_error\n",
    "#from helper_functions import do_pca, scree_plot, plot_components, pca_results\n",
    "from sklearn.metrics import fbeta_score \n",
    "from sklearn.metrics import accuracy_score\n",
    "import visuals as vs\n",
    "import seaborn as sb\n",
    "%matplotlib inline"
   ]
  },
  {
   "cell_type": "code",
   "execution_count": 3,
   "metadata": {},
   "outputs": [
    {
     "data": {
      "text/html": [
       "<div>\n",
       "<style scoped>\n",
       "    .dataframe tbody tr th:only-of-type {\n",
       "        vertical-align: middle;\n",
       "    }\n",
       "\n",
       "    .dataframe tbody tr th {\n",
       "        vertical-align: top;\n",
       "    }\n",
       "\n",
       "    .dataframe thead th {\n",
       "        text-align: right;\n",
       "    }\n",
       "</style>\n",
       "<table border=\"1\" class=\"dataframe\">\n",
       "  <thead>\n",
       "    <tr style=\"text-align: right;\">\n",
       "      <th></th>\n",
       "      <th>country</th>\n",
       "      <th>description</th>\n",
       "      <th>designation</th>\n",
       "      <th>points</th>\n",
       "      <th>price</th>\n",
       "      <th>province</th>\n",
       "      <th>region_1</th>\n",
       "      <th>region_2</th>\n",
       "      <th>taster_name</th>\n",
       "      <th>taster_twitter_handle</th>\n",
       "      <th>title</th>\n",
       "      <th>variety</th>\n",
       "      <th>winery</th>\n",
       "    </tr>\n",
       "  </thead>\n",
       "  <tbody>\n",
       "    <tr>\n",
       "      <th>0</th>\n",
       "      <td>Italy</td>\n",
       "      <td>Aromas include tropical fruit, broom, brimston...</td>\n",
       "      <td>Vulkà Bianco</td>\n",
       "      <td>87</td>\n",
       "      <td>NaN</td>\n",
       "      <td>Sicily &amp; Sardinia</td>\n",
       "      <td>Etna</td>\n",
       "      <td>NaN</td>\n",
       "      <td>Kerin O’Keefe</td>\n",
       "      <td>@kerinokeefe</td>\n",
       "      <td>Nicosia 2013 Vulkà Bianco  (Etna)</td>\n",
       "      <td>White Blend</td>\n",
       "      <td>Nicosia</td>\n",
       "    </tr>\n",
       "  </tbody>\n",
       "</table>\n",
       "</div>"
      ],
      "text/plain": [
       "  country                                        description   designation  \\\n",
       "0   Italy  Aromas include tropical fruit, broom, brimston...  Vulkà Bianco   \n",
       "\n",
       "   points  price           province region_1 region_2    taster_name  \\\n",
       "0      87    NaN  Sicily & Sardinia     Etna      NaN  Kerin O’Keefe   \n",
       "\n",
       "  taster_twitter_handle                              title      variety  \\\n",
       "0          @kerinokeefe  Nicosia 2013 Vulkà Bianco  (Etna)  White Blend   \n",
       "\n",
       "    winery  \n",
       "0  Nicosia  "
      ]
     },
     "execution_count": 3,
     "metadata": {},
     "output_type": "execute_result"
    }
   ],
   "source": [
    "df = pd.read_csv('winemag-data-130k-v2.csv', )\n",
    "del df['Unnamed: 0']\n",
    "df.head(1)"
   ]
  },
  {
   "cell_type": "code",
   "execution_count": 4,
   "metadata": {},
   "outputs": [
    {
     "data": {
      "text/plain": [
       "(129971, 13)"
      ]
     },
     "execution_count": 4,
     "metadata": {},
     "output_type": "execute_result"
    }
   ],
   "source": [
    "df.shape"
   ]
  },
  {
   "cell_type": "markdown",
   "metadata": {},
   "source": [
    "A first look at the data shows 14 different columns of data per row. One of the columns are just the index meaning 13 columns are actual usefull data. Each row is one review. In total we have 129.971 rows which equals the same amount of reviews. "
   ]
  },
  {
   "cell_type": "markdown",
   "metadata": {},
   "source": [
    "### 2. Check for and define the continous data variables"
   ]
  },
  {
   "cell_type": "markdown",
   "metadata": {},
   "source": [
    "Second step is to find the continous data variables and look at the format and distribution of those values. "
   ]
  },
  {
   "cell_type": "code",
   "execution_count": 5,
   "metadata": {},
   "outputs": [
    {
     "data": {
      "text/html": [
       "<div>\n",
       "<style scoped>\n",
       "    .dataframe tbody tr th:only-of-type {\n",
       "        vertical-align: middle;\n",
       "    }\n",
       "\n",
       "    .dataframe tbody tr th {\n",
       "        vertical-align: top;\n",
       "    }\n",
       "\n",
       "    .dataframe thead th {\n",
       "        text-align: right;\n",
       "    }\n",
       "</style>\n",
       "<table border=\"1\" class=\"dataframe\">\n",
       "  <thead>\n",
       "    <tr style=\"text-align: right;\">\n",
       "      <th></th>\n",
       "      <th>points</th>\n",
       "      <th>price</th>\n",
       "    </tr>\n",
       "  </thead>\n",
       "  <tbody>\n",
       "    <tr>\n",
       "      <th>count</th>\n",
       "      <td>129971.000000</td>\n",
       "      <td>120975.000000</td>\n",
       "    </tr>\n",
       "    <tr>\n",
       "      <th>mean</th>\n",
       "      <td>88.447138</td>\n",
       "      <td>35.363389</td>\n",
       "    </tr>\n",
       "    <tr>\n",
       "      <th>std</th>\n",
       "      <td>3.039730</td>\n",
       "      <td>41.022218</td>\n",
       "    </tr>\n",
       "    <tr>\n",
       "      <th>min</th>\n",
       "      <td>80.000000</td>\n",
       "      <td>4.000000</td>\n",
       "    </tr>\n",
       "    <tr>\n",
       "      <th>25%</th>\n",
       "      <td>86.000000</td>\n",
       "      <td>17.000000</td>\n",
       "    </tr>\n",
       "    <tr>\n",
       "      <th>50%</th>\n",
       "      <td>88.000000</td>\n",
       "      <td>25.000000</td>\n",
       "    </tr>\n",
       "    <tr>\n",
       "      <th>75%</th>\n",
       "      <td>91.000000</td>\n",
       "      <td>42.000000</td>\n",
       "    </tr>\n",
       "    <tr>\n",
       "      <th>max</th>\n",
       "      <td>100.000000</td>\n",
       "      <td>3300.000000</td>\n",
       "    </tr>\n",
       "  </tbody>\n",
       "</table>\n",
       "</div>"
      ],
      "text/plain": [
       "              points          price\n",
       "count  129971.000000  120975.000000\n",
       "mean       88.447138      35.363389\n",
       "std         3.039730      41.022218\n",
       "min        80.000000       4.000000\n",
       "25%        86.000000      17.000000\n",
       "50%        88.000000      25.000000\n",
       "75%        91.000000      42.000000\n",
       "max       100.000000    3300.000000"
      ]
     },
     "execution_count": 5,
     "metadata": {},
     "output_type": "execute_result"
    }
   ],
   "source": [
    "df.describe()"
   ]
  },
  {
   "cell_type": "code",
   "execution_count": 6,
   "metadata": {},
   "outputs": [
    {
     "data": {
      "text/plain": [
       "Index(['points', 'price'], dtype='object')"
      ]
     },
     "execution_count": 6,
     "metadata": {},
     "output_type": "execute_result"
    }
   ],
   "source": [
    "df.describe().columns"
   ]
  },
  {
   "cell_type": "code",
   "execution_count": 7,
   "metadata": {},
   "outputs": [
    {
     "data": {
      "text/plain": [
       "2"
      ]
     },
     "execution_count": 7,
     "metadata": {},
     "output_type": "execute_result"
    }
   ],
   "source": [
    "len(df.describe().columns)"
   ]
  },
  {
   "cell_type": "markdown",
   "metadata": {},
   "source": [
    "Distribution of continous values"
   ]
  },
  {
   "cell_type": "code",
   "execution_count": 8,
   "metadata": {},
   "outputs": [
    {
     "data": {
      "image/png": "[encoded data removed]",
      "text/plain": [
       "<Figure size 288x288 with 1 Axes>"
      ]
     },
     "metadata": {
      "needs_background": "light"
     },
     "output_type": "display_data"
    }
   ],
   "source": [
    "df['price'].hist(figsize=[4,4]);"
   ]
  },
  {
   "cell_type": "code",
   "execution_count": 9,
   "metadata": {},
   "outputs": [
    {
     "data": {
      "image/png": "[encoded data removed]",
      "text/plain": [
       "<Figure size 288x288 with 1 Axes>"
      ]
     },
     "metadata": {
      "needs_background": "light"
     },
     "output_type": "display_data"
    }
   ],
   "source": [
    "df['price'].hist(figsize=[4,4], range=[0,100]);"
   ]
  },
  {
   "cell_type": "code",
   "execution_count": 10,
   "metadata": {},
   "outputs": [
    {
     "data": {
      "image/png": "[encoded data removed]",
      "text/plain": [
       "<Figure size 288x288 with 1 Axes>"
      ]
     },
     "metadata": {
      "needs_background": "light"
     },
     "output_type": "display_data"
    }
   ],
   "source": [
    "df['points'].hist(figsize=[4,4]);"
   ]
  },
  {
   "cell_type": "code",
   "execution_count": 11,
   "metadata": {},
   "outputs": [
    {
     "data": {
      "text/plain": [
       "(4.0, 3300.0)"
      ]
     },
     "execution_count": 11,
     "metadata": {},
     "output_type": "execute_result"
    }
   ],
   "source": [
    "df['price'].min() , df['price'].max()"
   ]
  },
  {
   "cell_type": "markdown",
   "metadata": {},
   "source": [
    "Check correlation"
   ]
  },
  {
   "cell_type": "code",
   "execution_count": 12,
   "metadata": {},
   "outputs": [
    {
     "data": {
      "image/png": "[encoded data removed]",
      "text/plain": [
       "<Figure size 432x288 with 2 Axes>"
      ]
     },
     "metadata": {
      "needs_background": "light"
     },
     "output_type": "display_data"
    }
   ],
   "source": [
    "sb.heatmap(df.corr(), annot=True, fmt='.2f');"
   ]
  },
  {
   "cell_type": "code",
   "execution_count": 13,
   "metadata": {},
   "outputs": [
    {
     "data": {
      "text/plain": [
       "(129971, 13)"
      ]
     },
     "execution_count": 13,
     "metadata": {},
     "output_type": "execute_result"
    }
   ],
   "source": [
    "df.shape"
   ]
  },
  {
   "cell_type": "code",
   "execution_count": 14,
   "metadata": {},
   "outputs": [
    {
     "data": {
      "text/plain": [
       "array([ 87,  86,  85,  88,  92,  91,  90,  89,  83,  82,  81,  80, 100,\n",
       "        98,  97,  96,  95,  93,  94,  84,  99])"
      ]
     },
     "execution_count": 14,
     "metadata": {},
     "output_type": "execute_result"
    }
   ],
   "source": [
    "df['points'].unique()"
   ]
  },
  {
   "cell_type": "markdown",
   "metadata": {},
   "source": [
    "#### Conclusion "
   ]
  },
  {
   "cell_type": "markdown",
   "metadata": {},
   "source": [
    "We find 2 continous data variables in the dataset - price and points. The points data I would say follows the normal distribution and the price is right skewed with a minimum of 4 and a max of 3300. When running a heatmap for the correlation between the different values we see a correlation between price and points of 0.42.   "
   ]
  },
  {
   "cell_type": "markdown",
   "metadata": {},
   "source": [
    "### 3. Check for and define the categorical data types"
   ]
  },
  {
   "cell_type": "markdown",
   "metadata": {},
   "source": [
    "For the third step we look at what categorical data values are in the dataset. "
   ]
  },
  {
   "cell_type": "code",
   "execution_count": 15,
   "metadata": {},
   "outputs": [],
   "source": [
    "cat_cols = df.select_dtypes(include=['object']).columns"
   ]
  },
  {
   "cell_type": "code",
   "execution_count": 16,
   "metadata": {},
   "outputs": [
    {
     "data": {
      "text/plain": [
       "11"
      ]
     },
     "execution_count": 16,
     "metadata": {},
     "output_type": "execute_result"
    }
   ],
   "source": [
    "len(cat_cols)"
   ]
  },
  {
   "cell_type": "code",
   "execution_count": 17,
   "metadata": {},
   "outputs": [
    {
     "data": {
      "text/html": [
       "<div>\n",
       "<style scoped>\n",
       "    .dataframe tbody tr th:only-of-type {\n",
       "        vertical-align: middle;\n",
       "    }\n",
       "\n",
       "    .dataframe tbody tr th {\n",
       "        vertical-align: top;\n",
       "    }\n",
       "\n",
       "    .dataframe thead th {\n",
       "        text-align: right;\n",
       "    }\n",
       "</style>\n",
       "<table border=\"1\" class=\"dataframe\">\n",
       "  <thead>\n",
       "    <tr style=\"text-align: right;\">\n",
       "      <th></th>\n",
       "      <th>country</th>\n",
       "      <th>description</th>\n",
       "      <th>designation</th>\n",
       "      <th>province</th>\n",
       "      <th>region_1</th>\n",
       "      <th>region_2</th>\n",
       "      <th>taster_name</th>\n",
       "      <th>taster_twitter_handle</th>\n",
       "      <th>title</th>\n",
       "      <th>variety</th>\n",
       "      <th>winery</th>\n",
       "    </tr>\n",
       "  </thead>\n",
       "  <tbody>\n",
       "    <tr>\n",
       "      <th>0</th>\n",
       "      <td>Italy</td>\n",
       "      <td>Aromas include tropical fruit, broom, brimston...</td>\n",
       "      <td>Vulkà Bianco</td>\n",
       "      <td>Sicily &amp; Sardinia</td>\n",
       "      <td>Etna</td>\n",
       "      <td>NaN</td>\n",
       "      <td>Kerin O’Keefe</td>\n",
       "      <td>@kerinokeefe</td>\n",
       "      <td>Nicosia 2013 Vulkà Bianco  (Etna)</td>\n",
       "      <td>White Blend</td>\n",
       "      <td>Nicosia</td>\n",
       "    </tr>\n",
       "    <tr>\n",
       "      <th>1</th>\n",
       "      <td>Portugal</td>\n",
       "      <td>This is ripe and fruity, a wine that is smooth...</td>\n",
       "      <td>Avidagos</td>\n",
       "      <td>Douro</td>\n",
       "      <td>NaN</td>\n",
       "      <td>NaN</td>\n",
       "      <td>Roger Voss</td>\n",
       "      <td>@vossroger</td>\n",
       "      <td>Quinta dos Avidagos 2011 Avidagos Red (Douro)</td>\n",
       "      <td>Portuguese Red</td>\n",
       "      <td>Quinta dos Avidagos</td>\n",
       "    </tr>\n",
       "  </tbody>\n",
       "</table>\n",
       "</div>"
      ],
      "text/plain": [
       "    country                                        description   designation  \\\n",
       "0     Italy  Aromas include tropical fruit, broom, brimston...  Vulkà Bianco   \n",
       "1  Portugal  This is ripe and fruity, a wine that is smooth...      Avidagos   \n",
       "\n",
       "            province region_1 region_2    taster_name taster_twitter_handle  \\\n",
       "0  Sicily & Sardinia     Etna      NaN  Kerin O’Keefe          @kerinokeefe   \n",
       "1              Douro      NaN      NaN     Roger Voss            @vossroger   \n",
       "\n",
       "                                           title         variety  \\\n",
       "0              Nicosia 2013 Vulkà Bianco  (Etna)     White Blend   \n",
       "1  Quinta dos Avidagos 2011 Avidagos Red (Douro)  Portuguese Red   \n",
       "\n",
       "                winery  \n",
       "0              Nicosia  \n",
       "1  Quinta dos Avidagos  "
      ]
     },
     "execution_count": 17,
     "metadata": {},
     "output_type": "execute_result"
    }
   ],
   "source": [
    "df.select_dtypes(include=['object']).head(2)"
   ]
  },
  {
   "cell_type": "code",
   "execution_count": 18,
   "metadata": {},
   "outputs": [
    {
     "data": {
      "text/plain": [
       "Index(['country', 'description', 'designation', 'province', 'region_1',\n",
       "       'region_2', 'taster_name', 'taster_twitter_handle', 'title', 'variety',\n",
       "       'winery'],\n",
       "      dtype='object')"
      ]
     },
     "execution_count": 18,
     "metadata": {},
     "output_type": "execute_result"
    }
   ],
   "source": [
    "cat_cols"
   ]
  },
  {
   "cell_type": "markdown",
   "metadata": {},
   "source": [
    "Categorical Columns: <br>\n",
    "'country', 'description', 'designation', 'province', 'region_1',\n",
    "'region_2', 'taster_name', 'taster_twitter_handle', 'title', 'variety' and\n",
    "'winery'"
   ]
  },
  {
   "cell_type": "markdown",
   "metadata": {},
   "source": [
    "#### Conclusion"
   ]
  },
  {
   "cell_type": "markdown",
   "metadata": {},
   "source": [
    "Since we only had two continous data types there is no suprise in the fact that there are 11 different columns with categorical values in the dataset. For these columns we need to take some transformation action to be able to add them into the model we later chose to predict the wine rating. This as the Machine Learning models only handles numeric data and does not take strings and objects as input values. "
   ]
  },
  {
   "cell_type": "markdown",
   "metadata": {},
   "source": [
    "### 4. Investigate missing data and drop selected rows and columns "
   ]
  },
  {
   "cell_type": "markdown",
   "metadata": {},
   "source": [
    "A big part of cleaning a dataset has to do with finding missing values and handling them in some way. This as we cannot add missing values into the training model later on only numeric data as mentioned before. "
   ]
  },
  {
   "cell_type": "code",
   "execution_count": 19,
   "metadata": {},
   "outputs": [
    {
     "data": {
      "text/plain": [
       "country                     63\n",
       "description                  0\n",
       "designation              37465\n",
       "points                       0\n",
       "price                     8996\n",
       "province                    63\n",
       "region_1                 21247\n",
       "region_2                 79460\n",
       "taster_name              26244\n",
       "taster_twitter_handle    31213\n",
       "title                        0\n",
       "variety                      1\n",
       "winery                       0\n",
       "dtype: int64"
      ]
     },
     "execution_count": 19,
     "metadata": {},
     "output_type": "execute_result"
    }
   ],
   "source": [
    "df.isnull().sum()"
   ]
  },
  {
   "cell_type": "markdown",
   "metadata": {},
   "source": [
    "We found many missing values. As an example we found almost 80.000 missing values in the region_2 column. "
   ]
  },
  {
   "cell_type": "code",
   "execution_count": 20,
   "metadata": {},
   "outputs": [
    {
     "data": {
      "text/html": [
       "<div>\n",
       "<style scoped>\n",
       "    .dataframe tbody tr th:only-of-type {\n",
       "        vertical-align: middle;\n",
       "    }\n",
       "\n",
       "    .dataframe tbody tr th {\n",
       "        vertical-align: top;\n",
       "    }\n",
       "\n",
       "    .dataframe thead th {\n",
       "        text-align: right;\n",
       "    }\n",
       "</style>\n",
       "<table border=\"1\" class=\"dataframe\">\n",
       "  <thead>\n",
       "    <tr style=\"text-align: right;\">\n",
       "      <th></th>\n",
       "      <th>country</th>\n",
       "      <th>description</th>\n",
       "      <th>designation</th>\n",
       "      <th>points</th>\n",
       "      <th>price</th>\n",
       "      <th>province</th>\n",
       "      <th>region_1</th>\n",
       "      <th>region_2</th>\n",
       "      <th>taster_name</th>\n",
       "      <th>taster_twitter_handle</th>\n",
       "      <th>title</th>\n",
       "      <th>variety</th>\n",
       "      <th>winery</th>\n",
       "    </tr>\n",
       "  </thead>\n",
       "  <tbody>\n",
       "    <tr>\n",
       "      <th>0</th>\n",
       "      <td>Italy</td>\n",
       "      <td>Aromas include tropical fruit, broom, brimston...</td>\n",
       "      <td>Vulkà Bianco</td>\n",
       "      <td>87</td>\n",
       "      <td>NaN</td>\n",
       "      <td>Sicily &amp; Sardinia</td>\n",
       "      <td>Etna</td>\n",
       "      <td>NaN</td>\n",
       "      <td>Kerin O’Keefe</td>\n",
       "      <td>@kerinokeefe</td>\n",
       "      <td>Nicosia 2013 Vulkà Bianco  (Etna)</td>\n",
       "      <td>White Blend</td>\n",
       "      <td>Nicosia</td>\n",
       "    </tr>\n",
       "  </tbody>\n",
       "</table>\n",
       "</div>"
      ],
      "text/plain": [
       "  country                                        description   designation  \\\n",
       "0   Italy  Aromas include tropical fruit, broom, brimston...  Vulkà Bianco   \n",
       "\n",
       "   points  price           province region_1 region_2    taster_name  \\\n",
       "0      87    NaN  Sicily & Sardinia     Etna      NaN  Kerin O’Keefe   \n",
       "\n",
       "  taster_twitter_handle                              title      variety  \\\n",
       "0          @kerinokeefe  Nicosia 2013 Vulkà Bianco  (Etna)  White Blend   \n",
       "\n",
       "    winery  \n",
       "0  Nicosia  "
      ]
     },
     "execution_count": 20,
     "metadata": {},
     "output_type": "execute_result"
    }
   ],
   "source": [
    "df.head(1)"
   ]
  },
  {
   "cell_type": "markdown",
   "metadata": {},
   "source": [
    "As these are categorical values it is also interesting to see how many unique values there is in every column as this will decide on how many categories we will end up with when starting to create dummy variables (more on this in coming sections). "
   ]
  },
  {
   "cell_type": "code",
   "execution_count": 21,
   "metadata": {},
   "outputs": [
    {
     "name": "stdout",
     "output_type": "stream",
     "text": [
      "country 44\n",
      "description 119955\n",
      "designation 37980\n",
      "points 21\n",
      "price 391\n",
      "province 426\n",
      "region_1 1230\n",
      "region_2 18\n",
      "taster_name 20\n",
      "taster_twitter_handle 16\n",
      "title 118840\n",
      "variety 708\n",
      "winery 16757\n"
     ]
    }
   ],
   "source": [
    "for col in df.columns :\n",
    "    uni_values = len(df[col].unique())\n",
    "    name = col\n",
    "    print(col,uni_values)"
   ]
  },
  {
   "cell_type": "markdown",
   "metadata": {},
   "source": [
    "Here comes a very important decision. We need to make a decision on which columns to remove and which to keep. I will start with taking away a vast amount of the columns in this dataset and try to focus on four of them to create the machine learning model on. The ones I will keep will be: <b>country, points, price and province.</b> Why? Well a couple of reasons. \n",
    "1. To keep all of the columns would create a dataset that is very large (after dummy variables) and I do not have the compute resources to run such a model. \n",
    "2. I believe this data could have a real impact on the amount of points the specific wine would get. \n",
    "3. Some data are clearly not relevant for the rating it got. Examples: taster_twitter_handle, taster_name and title.\n",
    "4. The description data I am saving for another project where the goal would be to through a deep learning model find a way to predict the type of wine just be a description. \n",
    "5. Missing data - region 2 has 80.000 missing data values. Designation has almost 40.000 and region_1 has 26.000 missing values. If I would use these columns my dataset would be greatly reduced from its orignial state. "
   ]
  },
  {
   "cell_type": "markdown",
   "metadata": {},
   "source": [
    "This will be something you test your way forward on as if we dont not get the results we need with these values we can look at other ways to for the data. "
   ]
  },
  {
   "cell_type": "markdown",
   "metadata": {},
   "source": [
    "So I will drop the columns that are not of interest right now."
   ]
  },
  {
   "cell_type": "code",
   "execution_count": 22,
   "metadata": {},
   "outputs": [],
   "source": [
    "df_dropped = df.drop(columns=['description', 'region_1', 'region_2', 'taster_twitter_handle', 'title', 'designation','winery','taster_name','variety'])\n"
   ]
  },
  {
   "cell_type": "markdown",
   "metadata": {},
   "source": [
    "After I dropped the columns I will have four columns left. <b>Country, points, price and province.</b>"
   ]
  },
  {
   "cell_type": "code",
   "execution_count": 23,
   "metadata": {
    "scrolled": true
   },
   "outputs": [
    {
     "data": {
      "text/html": [
       "<div>\n",
       "<style scoped>\n",
       "    .dataframe tbody tr th:only-of-type {\n",
       "        vertical-align: middle;\n",
       "    }\n",
       "\n",
       "    .dataframe tbody tr th {\n",
       "        vertical-align: top;\n",
       "    }\n",
       "\n",
       "    .dataframe thead th {\n",
       "        text-align: right;\n",
       "    }\n",
       "</style>\n",
       "<table border=\"1\" class=\"dataframe\">\n",
       "  <thead>\n",
       "    <tr style=\"text-align: right;\">\n",
       "      <th></th>\n",
       "      <th>country</th>\n",
       "      <th>points</th>\n",
       "      <th>price</th>\n",
       "      <th>province</th>\n",
       "    </tr>\n",
       "  </thead>\n",
       "  <tbody>\n",
       "    <tr>\n",
       "      <th>0</th>\n",
       "      <td>Italy</td>\n",
       "      <td>87</td>\n",
       "      <td>NaN</td>\n",
       "      <td>Sicily &amp; Sardinia</td>\n",
       "    </tr>\n",
       "    <tr>\n",
       "      <th>1</th>\n",
       "      <td>Portugal</td>\n",
       "      <td>87</td>\n",
       "      <td>15.0</td>\n",
       "      <td>Douro</td>\n",
       "    </tr>\n",
       "    <tr>\n",
       "      <th>2</th>\n",
       "      <td>US</td>\n",
       "      <td>87</td>\n",
       "      <td>14.0</td>\n",
       "      <td>Oregon</td>\n",
       "    </tr>\n",
       "    <tr>\n",
       "      <th>3</th>\n",
       "      <td>US</td>\n",
       "      <td>87</td>\n",
       "      <td>13.0</td>\n",
       "      <td>Michigan</td>\n",
       "    </tr>\n",
       "    <tr>\n",
       "      <th>4</th>\n",
       "      <td>US</td>\n",
       "      <td>87</td>\n",
       "      <td>65.0</td>\n",
       "      <td>Oregon</td>\n",
       "    </tr>\n",
       "  </tbody>\n",
       "</table>\n",
       "</div>"
      ],
      "text/plain": [
       "    country  points  price           province\n",
       "0     Italy      87    NaN  Sicily & Sardinia\n",
       "1  Portugal      87   15.0              Douro\n",
       "2        US      87   14.0             Oregon\n",
       "3        US      87   13.0           Michigan\n",
       "4        US      87   65.0             Oregon"
      ]
     },
     "execution_count": 23,
     "metadata": {},
     "output_type": "execute_result"
    }
   ],
   "source": [
    "df_dropped.head()"
   ]
  },
  {
   "cell_type": "code",
   "execution_count": 24,
   "metadata": {},
   "outputs": [
    {
     "data": {
      "text/plain": [
       "country       63\n",
       "points         0\n",
       "price       8996\n",
       "province      63\n",
       "dtype: int64"
      ]
     },
     "execution_count": 24,
     "metadata": {},
     "output_type": "execute_result"
    }
   ],
   "source": [
    "df_dropped.isnull().sum()"
   ]
  },
  {
   "cell_type": "markdown",
   "metadata": {},
   "source": [
    "Price has almost 9.000 missing values. These needs to be dropped. I will also drop the 59 reviews that is missing the country and province data."
   ]
  },
  {
   "cell_type": "code",
   "execution_count": 25,
   "metadata": {},
   "outputs": [],
   "source": [
    "df_dropped = df_dropped.dropna(subset=['price'], axis=0)"
   ]
  },
  {
   "cell_type": "code",
   "execution_count": 26,
   "metadata": {},
   "outputs": [
    {
     "data": {
      "text/plain": [
       "country     59\n",
       "points       0\n",
       "price        0\n",
       "province    59\n",
       "dtype: int64"
      ]
     },
     "execution_count": 26,
     "metadata": {},
     "output_type": "execute_result"
    }
   ],
   "source": [
    "df_dropped.isnull().sum()"
   ]
  },
  {
   "cell_type": "code",
   "execution_count": 27,
   "metadata": {},
   "outputs": [],
   "source": [
    "df_dropped = df_dropped.dropna(subset=['country'], axis=0)"
   ]
  },
  {
   "cell_type": "code",
   "execution_count": 28,
   "metadata": {},
   "outputs": [],
   "source": [
    "df_dropped = df_dropped.dropna(subset=['province'], axis=0)"
   ]
  },
  {
   "cell_type": "code",
   "execution_count": 29,
   "metadata": {},
   "outputs": [
    {
     "data": {
      "text/plain": [
       "country     0\n",
       "points      0\n",
       "price       0\n",
       "province    0\n",
       "dtype: int64"
      ]
     },
     "execution_count": 29,
     "metadata": {},
     "output_type": "execute_result"
    }
   ],
   "source": [
    "df_dropped.isnull().sum()"
   ]
  },
  {
   "cell_type": "markdown",
   "metadata": {},
   "source": [
    "After also removing the few missing values in country and price we have our dataset with no missing values and four columns. "
   ]
  },
  {
   "cell_type": "code",
   "execution_count": 30,
   "metadata": {},
   "outputs": [
    {
     "data": {
      "text/html": [
       "<div>\n",
       "<style scoped>\n",
       "    .dataframe tbody tr th:only-of-type {\n",
       "        vertical-align: middle;\n",
       "    }\n",
       "\n",
       "    .dataframe tbody tr th {\n",
       "        vertical-align: top;\n",
       "    }\n",
       "\n",
       "    .dataframe thead th {\n",
       "        text-align: right;\n",
       "    }\n",
       "</style>\n",
       "<table border=\"1\" class=\"dataframe\">\n",
       "  <thead>\n",
       "    <tr style=\"text-align: right;\">\n",
       "      <th></th>\n",
       "      <th>country</th>\n",
       "      <th>points</th>\n",
       "      <th>price</th>\n",
       "      <th>province</th>\n",
       "    </tr>\n",
       "  </thead>\n",
       "  <tbody>\n",
       "    <tr>\n",
       "      <th>1</th>\n",
       "      <td>Portugal</td>\n",
       "      <td>87</td>\n",
       "      <td>15.0</td>\n",
       "      <td>Douro</td>\n",
       "    </tr>\n",
       "    <tr>\n",
       "      <th>2</th>\n",
       "      <td>US</td>\n",
       "      <td>87</td>\n",
       "      <td>14.0</td>\n",
       "      <td>Oregon</td>\n",
       "    </tr>\n",
       "    <tr>\n",
       "      <th>3</th>\n",
       "      <td>US</td>\n",
       "      <td>87</td>\n",
       "      <td>13.0</td>\n",
       "      <td>Michigan</td>\n",
       "    </tr>\n",
       "    <tr>\n",
       "      <th>4</th>\n",
       "      <td>US</td>\n",
       "      <td>87</td>\n",
       "      <td>65.0</td>\n",
       "      <td>Oregon</td>\n",
       "    </tr>\n",
       "    <tr>\n",
       "      <th>5</th>\n",
       "      <td>Spain</td>\n",
       "      <td>87</td>\n",
       "      <td>15.0</td>\n",
       "      <td>Northern Spain</td>\n",
       "    </tr>\n",
       "  </tbody>\n",
       "</table>\n",
       "</div>"
      ],
      "text/plain": [
       "    country  points  price        province\n",
       "1  Portugal      87   15.0           Douro\n",
       "2        US      87   14.0          Oregon\n",
       "3        US      87   13.0        Michigan\n",
       "4        US      87   65.0          Oregon\n",
       "5     Spain      87   15.0  Northern Spain"
      ]
     },
     "execution_count": 30,
     "metadata": {},
     "output_type": "execute_result"
    }
   ],
   "source": [
    "df_dropped.head()"
   ]
  },
  {
   "cell_type": "markdown",
   "metadata": {},
   "source": [
    "I will make a copy of the dataframe now to save the state of the dataframe for further compute. "
   ]
  },
  {
   "cell_type": "code",
   "execution_count": 31,
   "metadata": {},
   "outputs": [],
   "source": [
    "df_clean = df_dropped.copy()"
   ]
  },
  {
   "cell_type": "code",
   "execution_count": 32,
   "metadata": {},
   "outputs": [
    {
     "data": {
      "text/html": [
       "<div>\n",
       "<style scoped>\n",
       "    .dataframe tbody tr th:only-of-type {\n",
       "        vertical-align: middle;\n",
       "    }\n",
       "\n",
       "    .dataframe tbody tr th {\n",
       "        vertical-align: top;\n",
       "    }\n",
       "\n",
       "    .dataframe thead th {\n",
       "        text-align: right;\n",
       "    }\n",
       "</style>\n",
       "<table border=\"1\" class=\"dataframe\">\n",
       "  <thead>\n",
       "    <tr style=\"text-align: right;\">\n",
       "      <th></th>\n",
       "      <th>country</th>\n",
       "      <th>points</th>\n",
       "      <th>price</th>\n",
       "      <th>province</th>\n",
       "    </tr>\n",
       "  </thead>\n",
       "  <tbody>\n",
       "    <tr>\n",
       "      <th>1</th>\n",
       "      <td>Portugal</td>\n",
       "      <td>87</td>\n",
       "      <td>15.0</td>\n",
       "      <td>Douro</td>\n",
       "    </tr>\n",
       "    <tr>\n",
       "      <th>2</th>\n",
       "      <td>US</td>\n",
       "      <td>87</td>\n",
       "      <td>14.0</td>\n",
       "      <td>Oregon</td>\n",
       "    </tr>\n",
       "    <tr>\n",
       "      <th>3</th>\n",
       "      <td>US</td>\n",
       "      <td>87</td>\n",
       "      <td>13.0</td>\n",
       "      <td>Michigan</td>\n",
       "    </tr>\n",
       "    <tr>\n",
       "      <th>4</th>\n",
       "      <td>US</td>\n",
       "      <td>87</td>\n",
       "      <td>65.0</td>\n",
       "      <td>Oregon</td>\n",
       "    </tr>\n",
       "    <tr>\n",
       "      <th>5</th>\n",
       "      <td>Spain</td>\n",
       "      <td>87</td>\n",
       "      <td>15.0</td>\n",
       "      <td>Northern Spain</td>\n",
       "    </tr>\n",
       "  </tbody>\n",
       "</table>\n",
       "</div>"
      ],
      "text/plain": [
       "    country  points  price        province\n",
       "1  Portugal      87   15.0           Douro\n",
       "2        US      87   14.0          Oregon\n",
       "3        US      87   13.0        Michigan\n",
       "4        US      87   65.0          Oregon\n",
       "5     Spain      87   15.0  Northern Spain"
      ]
     },
     "execution_count": 32,
     "metadata": {},
     "output_type": "execute_result"
    }
   ],
   "source": [
    "df_clean.head()"
   ]
  },
  {
   "cell_type": "code",
   "execution_count": 33,
   "metadata": {},
   "outputs": [
    {
     "name": "stdout",
     "output_type": "stream",
     "text": [
      "country 44\n",
      "points 21\n",
      "price 391\n",
      "province 426\n"
     ]
    }
   ],
   "source": [
    "for col in df_clean.columns :\n",
    "    uni_values = len(df[col].unique())\n",
    "    name = col\n",
    "    print(col,uni_values)"
   ]
  },
  {
   "cell_type": "markdown",
   "metadata": {},
   "source": [
    "Unique values in each columns as above specified. This will be important to know when we start creating the dummy variables. "
   ]
  },
  {
   "cell_type": "markdown",
   "metadata": {},
   "source": [
    "#### Conclusion"
   ]
  },
  {
   "cell_type": "markdown",
   "metadata": {},
   "source": [
    "We now have a dataset without missing values. The data that has been removed could be importat for the model but this is something we dont know at this moment. If we cant produce a model that is good with these values we will go back and evaluate if we should add some more features to the dataset. "
   ]
  },
  {
   "cell_type": "markdown",
   "metadata": {},
   "source": [
    "### 5. For categorical variables - create dummy variables"
   ]
  },
  {
   "cell_type": "markdown",
   "metadata": {},
   "source": [
    "When having categorical values in our dataset we need to convert them into numeric values somehow for the machine learning model to work. Here we can use a function called get_dummies on the dataset to make this happen. What the function does is to make a new column for each unique category in the original column and give it a value of 1 if it has that value and a 0 if it does not. In our newly cleaned dataset we have two columns that has categorical data. Country and Province."
   ]
  },
  {
   "cell_type": "code",
   "execution_count": 34,
   "metadata": {},
   "outputs": [],
   "source": [
    "cat_cols = df_clean.select_dtypes(include=['object']).columns"
   ]
  },
  {
   "cell_type": "code",
   "execution_count": 35,
   "metadata": {},
   "outputs": [
    {
     "data": {
      "text/plain": [
       "Index(['country', 'province'], dtype='object')"
      ]
     },
     "execution_count": 35,
     "metadata": {},
     "output_type": "execute_result"
    }
   ],
   "source": [
    "cat_cols"
   ]
  },
  {
   "cell_type": "code",
   "execution_count": 36,
   "metadata": {},
   "outputs": [],
   "source": [
    "for col in cat_cols:\n",
    "        try:\n",
    "            # for each cat add dummy var, drop original column\n",
    "            df_clean = pd.concat([df_clean.drop(col, axis=1), pd.get_dummies(df_clean[col], prefix=col, prefix_sep='_', drop_first=True, dummy_na=True)], axis=1)\n",
    "        except:\n",
    "            continue"
   ]
  },
  {
   "cell_type": "code",
   "execution_count": 37,
   "metadata": {},
   "outputs": [
    {
     "data": {
      "text/plain": [
       "(120916, 466)"
      ]
     },
     "execution_count": 37,
     "metadata": {},
     "output_type": "execute_result"
    }
   ],
   "source": [
    "df_clean.shape"
   ]
  },
  {
   "cell_type": "markdown",
   "metadata": {},
   "source": [
    "After performing the function on the dataset we now have a new dataset with 120916 rows and 466 columns. Quite a few more columns then the previous four. "
   ]
  },
  {
   "cell_type": "code",
   "execution_count": 38,
   "metadata": {},
   "outputs": [
    {
     "data": {
      "text/html": [
       "<div>\n",
       "<style scoped>\n",
       "    .dataframe tbody tr th:only-of-type {\n",
       "        vertical-align: middle;\n",
       "    }\n",
       "\n",
       "    .dataframe tbody tr th {\n",
       "        vertical-align: top;\n",
       "    }\n",
       "\n",
       "    .dataframe thead th {\n",
       "        text-align: right;\n",
       "    }\n",
       "</style>\n",
       "<table border=\"1\" class=\"dataframe\">\n",
       "  <thead>\n",
       "    <tr style=\"text-align: right;\">\n",
       "      <th></th>\n",
       "      <th>points</th>\n",
       "      <th>price</th>\n",
       "      <th>country_Armenia</th>\n",
       "      <th>country_Australia</th>\n",
       "      <th>country_Austria</th>\n",
       "      <th>country_Bosnia and Herzegovina</th>\n",
       "      <th>country_Brazil</th>\n",
       "      <th>country_Bulgaria</th>\n",
       "      <th>country_Canada</th>\n",
       "      <th>country_Chile</th>\n",
       "      <th>...</th>\n",
       "      <th>province_Western Australia</th>\n",
       "      <th>province_Western Cape</th>\n",
       "      <th>province_Wiener Gemischter Satz</th>\n",
       "      <th>province_Württemberg</th>\n",
       "      <th>province_Zenata</th>\n",
       "      <th>province_Österreichischer Perlwein</th>\n",
       "      <th>province_Österreichischer Sekt</th>\n",
       "      <th>province_Štajerska</th>\n",
       "      <th>province_Župa</th>\n",
       "      <th>province_nan</th>\n",
       "    </tr>\n",
       "  </thead>\n",
       "  <tbody>\n",
       "    <tr>\n",
       "      <th>1</th>\n",
       "      <td>87</td>\n",
       "      <td>15.0</td>\n",
       "      <td>0</td>\n",
       "      <td>0</td>\n",
       "      <td>0</td>\n",
       "      <td>0</td>\n",
       "      <td>0</td>\n",
       "      <td>0</td>\n",
       "      <td>0</td>\n",
       "      <td>0</td>\n",
       "      <td>...</td>\n",
       "      <td>0</td>\n",
       "      <td>0</td>\n",
       "      <td>0</td>\n",
       "      <td>0</td>\n",
       "      <td>0</td>\n",
       "      <td>0</td>\n",
       "      <td>0</td>\n",
       "      <td>0</td>\n",
       "      <td>0</td>\n",
       "      <td>0</td>\n",
       "    </tr>\n",
       "  </tbody>\n",
       "</table>\n",
       "<p>1 rows × 466 columns</p>\n",
       "</div>"
      ],
      "text/plain": [
       "   points  price  country_Armenia  country_Australia  country_Austria  \\\n",
       "1      87   15.0                0                  0                0   \n",
       "\n",
       "   country_Bosnia and Herzegovina  country_Brazil  country_Bulgaria  \\\n",
       "1                               0               0                 0   \n",
       "\n",
       "   country_Canada  country_Chile  ...  province_Western Australia  \\\n",
       "1               0              0  ...                           0   \n",
       "\n",
       "   province_Western Cape  province_Wiener Gemischter Satz  \\\n",
       "1                      0                                0   \n",
       "\n",
       "   province_Württemberg  province_Zenata  province_Österreichischer Perlwein  \\\n",
       "1                     0                0                                   0   \n",
       "\n",
       "   province_Österreichischer Sekt  province_Štajerska  province_Župa  \\\n",
       "1                               0                   0              0   \n",
       "\n",
       "   province_nan  \n",
       "1             0  \n",
       "\n",
       "[1 rows x 466 columns]"
      ]
     },
     "execution_count": 38,
     "metadata": {},
     "output_type": "execute_result"
    }
   ],
   "source": [
    "df_clean.head(1)"
   ]
  },
  {
   "cell_type": "markdown",
   "metadata": {},
   "source": [
    "### 6. Imputation"
   ]
  },
  {
   "cell_type": "markdown",
   "metadata": {},
   "source": [
    "Step six would be to impute values into the dataset if needed. In our case we now have a dataset with no missing values so this step will be skipped in this project. "
   ]
  },
  {
   "cell_type": "markdown",
   "metadata": {},
   "source": [
    "### 7. Split data into explanatory and response variables"
   ]
  },
  {
   "cell_type": "markdown",
   "metadata": {},
   "source": [
    "This step will just focus on dividing the dataset into two new dataframes. One for the explanatory data (=the data that we want to use to create the ML model to in the end predict the points for each wine) and one for the response data (=in this case the rating for each wine). "
   ]
  },
  {
   "cell_type": "code",
   "execution_count": 39,
   "metadata": {},
   "outputs": [],
   "source": [
    "response_col = 'points'"
   ]
  },
  {
   "cell_type": "code",
   "execution_count": 40,
   "metadata": {},
   "outputs": [],
   "source": [
    "#Split into explanatory and response variables\n",
    "X = df_clean.drop(response_col, axis=1)\n",
    "y = df_clean[response_col]"
   ]
  },
  {
   "cell_type": "code",
   "execution_count": 41,
   "metadata": {},
   "outputs": [
    {
     "data": {
      "text/plain": [
       "<matplotlib.axes._subplots.AxesSubplot at 0x1117f0860>"
      ]
     },
     "execution_count": 41,
     "metadata": {},
     "output_type": "execute_result"
    },
    {
     "data": {
      "image/png": "[encoded data removed]",
      "text/plain": [
       "<Figure size 432x288 with 1 Axes>"
      ]
     },
     "metadata": {
      "needs_background": "light"
     },
     "output_type": "display_data"
    }
   ],
   "source": [
    "y.hist()"
   ]
  },
  {
   "cell_type": "code",
   "execution_count": 42,
   "metadata": {},
   "outputs": [
    {
     "data": {
      "text/html": [
       "<div>\n",
       "<style scoped>\n",
       "    .dataframe tbody tr th:only-of-type {\n",
       "        vertical-align: middle;\n",
       "    }\n",
       "\n",
       "    .dataframe tbody tr th {\n",
       "        vertical-align: top;\n",
       "    }\n",
       "\n",
       "    .dataframe thead th {\n",
       "        text-align: right;\n",
       "    }\n",
       "</style>\n",
       "<table border=\"1\" class=\"dataframe\">\n",
       "  <thead>\n",
       "    <tr style=\"text-align: right;\">\n",
       "      <th></th>\n",
       "      <th>price</th>\n",
       "      <th>country_Armenia</th>\n",
       "      <th>country_Australia</th>\n",
       "      <th>country_Austria</th>\n",
       "      <th>country_Bosnia and Herzegovina</th>\n",
       "      <th>country_Brazil</th>\n",
       "      <th>country_Bulgaria</th>\n",
       "      <th>country_Canada</th>\n",
       "      <th>country_Chile</th>\n",
       "      <th>country_China</th>\n",
       "      <th>...</th>\n",
       "      <th>province_Western Australia</th>\n",
       "      <th>province_Western Cape</th>\n",
       "      <th>province_Wiener Gemischter Satz</th>\n",
       "      <th>province_Württemberg</th>\n",
       "      <th>province_Zenata</th>\n",
       "      <th>province_Österreichischer Perlwein</th>\n",
       "      <th>province_Österreichischer Sekt</th>\n",
       "      <th>province_Štajerska</th>\n",
       "      <th>province_Župa</th>\n",
       "      <th>province_nan</th>\n",
       "    </tr>\n",
       "  </thead>\n",
       "  <tbody>\n",
       "    <tr>\n",
       "      <th>1</th>\n",
       "      <td>15.0</td>\n",
       "      <td>0</td>\n",
       "      <td>0</td>\n",
       "      <td>0</td>\n",
       "      <td>0</td>\n",
       "      <td>0</td>\n",
       "      <td>0</td>\n",
       "      <td>0</td>\n",
       "      <td>0</td>\n",
       "      <td>0</td>\n",
       "      <td>...</td>\n",
       "      <td>0</td>\n",
       "      <td>0</td>\n",
       "      <td>0</td>\n",
       "      <td>0</td>\n",
       "      <td>0</td>\n",
       "      <td>0</td>\n",
       "      <td>0</td>\n",
       "      <td>0</td>\n",
       "      <td>0</td>\n",
       "      <td>0</td>\n",
       "    </tr>\n",
       "    <tr>\n",
       "      <th>2</th>\n",
       "      <td>14.0</td>\n",
       "      <td>0</td>\n",
       "      <td>0</td>\n",
       "      <td>0</td>\n",
       "      <td>0</td>\n",
       "      <td>0</td>\n",
       "      <td>0</td>\n",
       "      <td>0</td>\n",
       "      <td>0</td>\n",
       "      <td>0</td>\n",
       "      <td>...</td>\n",
       "      <td>0</td>\n",
       "      <td>0</td>\n",
       "      <td>0</td>\n",
       "      <td>0</td>\n",
       "      <td>0</td>\n",
       "      <td>0</td>\n",
       "      <td>0</td>\n",
       "      <td>0</td>\n",
       "      <td>0</td>\n",
       "      <td>0</td>\n",
       "    </tr>\n",
       "    <tr>\n",
       "      <th>3</th>\n",
       "      <td>13.0</td>\n",
       "      <td>0</td>\n",
       "      <td>0</td>\n",
       "      <td>0</td>\n",
       "      <td>0</td>\n",
       "      <td>0</td>\n",
       "      <td>0</td>\n",
       "      <td>0</td>\n",
       "      <td>0</td>\n",
       "      <td>0</td>\n",
       "      <td>...</td>\n",
       "      <td>0</td>\n",
       "      <td>0</td>\n",
       "      <td>0</td>\n",
       "      <td>0</td>\n",
       "      <td>0</td>\n",
       "      <td>0</td>\n",
       "      <td>0</td>\n",
       "      <td>0</td>\n",
       "      <td>0</td>\n",
       "      <td>0</td>\n",
       "    </tr>\n",
       "    <tr>\n",
       "      <th>4</th>\n",
       "      <td>65.0</td>\n",
       "      <td>0</td>\n",
       "      <td>0</td>\n",
       "      <td>0</td>\n",
       "      <td>0</td>\n",
       "      <td>0</td>\n",
       "      <td>0</td>\n",
       "      <td>0</td>\n",
       "      <td>0</td>\n",
       "      <td>0</td>\n",
       "      <td>...</td>\n",
       "      <td>0</td>\n",
       "      <td>0</td>\n",
       "      <td>0</td>\n",
       "      <td>0</td>\n",
       "      <td>0</td>\n",
       "      <td>0</td>\n",
       "      <td>0</td>\n",
       "      <td>0</td>\n",
       "      <td>0</td>\n",
       "      <td>0</td>\n",
       "    </tr>\n",
       "    <tr>\n",
       "      <th>5</th>\n",
       "      <td>15.0</td>\n",
       "      <td>0</td>\n",
       "      <td>0</td>\n",
       "      <td>0</td>\n",
       "      <td>0</td>\n",
       "      <td>0</td>\n",
       "      <td>0</td>\n",
       "      <td>0</td>\n",
       "      <td>0</td>\n",
       "      <td>0</td>\n",
       "      <td>...</td>\n",
       "      <td>0</td>\n",
       "      <td>0</td>\n",
       "      <td>0</td>\n",
       "      <td>0</td>\n",
       "      <td>0</td>\n",
       "      <td>0</td>\n",
       "      <td>0</td>\n",
       "      <td>0</td>\n",
       "      <td>0</td>\n",
       "      <td>0</td>\n",
       "    </tr>\n",
       "  </tbody>\n",
       "</table>\n",
       "<p>5 rows × 465 columns</p>\n",
       "</div>"
      ],
      "text/plain": [
       "   price  country_Armenia  country_Australia  country_Austria  \\\n",
       "1   15.0                0                  0                0   \n",
       "2   14.0                0                  0                0   \n",
       "3   13.0                0                  0                0   \n",
       "4   65.0                0                  0                0   \n",
       "5   15.0                0                  0                0   \n",
       "\n",
       "   country_Bosnia and Herzegovina  country_Brazil  country_Bulgaria  \\\n",
       "1                               0               0                 0   \n",
       "2                               0               0                 0   \n",
       "3                               0               0                 0   \n",
       "4                               0               0                 0   \n",
       "5                               0               0                 0   \n",
       "\n",
       "   country_Canada  country_Chile  country_China  ...  \\\n",
       "1               0              0              0  ...   \n",
       "2               0              0              0  ...   \n",
       "3               0              0              0  ...   \n",
       "4               0              0              0  ...   \n",
       "5               0              0              0  ...   \n",
       "\n",
       "   province_Western Australia  province_Western Cape  \\\n",
       "1                           0                      0   \n",
       "2                           0                      0   \n",
       "3                           0                      0   \n",
       "4                           0                      0   \n",
       "5                           0                      0   \n",
       "\n",
       "   province_Wiener Gemischter Satz  province_Württemberg  province_Zenata  \\\n",
       "1                                0                     0                0   \n",
       "2                                0                     0                0   \n",
       "3                                0                     0                0   \n",
       "4                                0                     0                0   \n",
       "5                                0                     0                0   \n",
       "\n",
       "   province_Österreichischer Perlwein  province_Österreichischer Sekt  \\\n",
       "1                                   0                               0   \n",
       "2                                   0                               0   \n",
       "3                                   0                               0   \n",
       "4                                   0                               0   \n",
       "5                                   0                               0   \n",
       "\n",
       "   province_Štajerska  province_Župa  province_nan  \n",
       "1                   0              0             0  \n",
       "2                   0              0             0  \n",
       "3                   0              0             0  \n",
       "4                   0              0             0  \n",
       "5                   0              0             0  \n",
       "\n",
       "[5 rows x 465 columns]"
      ]
     },
     "execution_count": 42,
     "metadata": {},
     "output_type": "execute_result"
    }
   ],
   "source": [
    "X.head()"
   ]
  },
  {
   "cell_type": "code",
   "execution_count": 43,
   "metadata": {},
   "outputs": [
    {
     "data": {
      "text/plain": [
       "1    87\n",
       "2    87\n",
       "3    87\n",
       "4    87\n",
       "5    87\n",
       "Name: points, dtype: int64"
      ]
     },
     "execution_count": 43,
     "metadata": {},
     "output_type": "execute_result"
    }
   ],
   "source": [
    "y.head()"
   ]
  },
  {
   "cell_type": "markdown",
   "metadata": {},
   "source": [
    "### 8. Principal Component Analysis & Normalizing"
   ]
  },
  {
   "cell_type": "markdown",
   "metadata": {},
   "source": [
    "As we have a lot of columns in our dataset (=466) I want to look at doing some feature engineering and by using Principal Component Analysis reduce the amount of features. This will reduce both the computational power needed, reduce training time and possibly also make the model perform better. "
   ]
  },
  {
   "cell_type": "markdown",
   "metadata": {},
   "source": [
    "But what is PCA? Well PCA creates new features (= components) from the original data. These components are linear representation of the data and will try to capture as much of the variance as possible to in the end represent the original data as good as possible. "
   ]
  },
  {
   "cell_type": "markdown",
   "metadata": {},
   "source": [
    "Lets create a function to create these new components as well as using StandardScaler to normalize the data."
   ]
  },
  {
   "cell_type": "code",
   "execution_count": 44,
   "metadata": {},
   "outputs": [],
   "source": [
    "def create_pca(n_components, full_data) :\n",
    "    X = StandardScaler().fit_transform(full_data)\n",
    "    pca = PCA(n_components)\n",
    "    X_pca = pca.fit_transform(X)\n",
    "    return pca, X_pca"
   ]
  },
  {
   "cell_type": "markdown",
   "metadata": {},
   "source": [
    "We start by creating 200 components. Which still is a lot but also more than half of the inital features we have. "
   ]
  },
  {
   "cell_type": "code",
   "execution_count": 45,
   "metadata": {},
   "outputs": [],
   "source": [
    "pca, X_pca = create_pca(200, df_clean)"
   ]
  },
  {
   "cell_type": "markdown",
   "metadata": {},
   "source": [
    "Lets also create a function to visualize the variance we cover with these new components and features. This type of plot is called a scree plot. "
   ]
  },
  {
   "cell_type": "code",
   "execution_count": 46,
   "metadata": {},
   "outputs": [],
   "source": [
    "def scree_plot(pca):\n",
    "    '''\n",
    "    Creates a scree plot associated with the principal components \n",
    "    \n",
    "    INPUT: pca - the result of instantian of PCA in scikit learn\n",
    "            \n",
    "    OUTPUT:\n",
    "            None\n",
    "    '''\n",
    "    num_components = len(pca.explained_variance_ratio_)\n",
    "    ind = np.arange(num_components)\n",
    "    vals = pca.explained_variance_ratio_\n",
    " \n",
    "    plt.figure(figsize = (10, 6))\n",
    "    ax = plt.subplot(111)\n",
    "    cumvals = np.cumsum(vals)\n",
    "    ax.bar(ind, vals)\n",
    "    ax.plot(ind, cumvals)\n",
    "    for i in range(num_components):\n",
    "        ax.annotate(r\"%s%%\" % ((str(vals[i]*100)[:4])), (ind[i]+0.2, vals[i]), va=\"bottom\", ha=\"center\", fontsize=12)\n",
    " \n",
    "    ax.xaxis.set_tick_params(width=0)\n",
    "    ax.yaxis.set_tick_params(width=2, length=12)\n",
    " \n",
    "    ax.set_xlabel(\"Principal Component\")\n",
    "    ax.set_ylabel(\"Variance Explained (%)\")\n",
    "    plt.title('Explained Variance Per Principal Component')"
   ]
  },
  {
   "cell_type": "code",
   "execution_count": 47,
   "metadata": {},
   "outputs": [
    {
     "data": {
      "text/plain": [
       "(0.5284000000000001, None)"
      ]
     },
     "execution_count": 47,
     "metadata": {},
     "output_type": "execute_result"
    },
    {
     "data": {
      "image/png": "[encoded data removed]",
      "text/plain": [
       "<Figure size 720x432 with 1 Axes>"
      ]
     },
     "metadata": {
      "needs_background": "light"
     },
     "output_type": "display_data"
    }
   ],
   "source": [
    "dimensions = dimensions = ['Dimension {}'.format(i) for i in range(1,len(pca.components_)+1)]\n",
    "components = pd.DataFrame(np.round(pca.components_, 4), columns = df_clean.keys())\n",
    "components.index = dimensions\n",
    "ratios = pca.explained_variance_ratio_.reshape(len(pca.components_), 1)\n",
    "variance_ratios = pd.DataFrame(np.round(ratios, 4), columns = ['Explained Variance'])\n",
    "variance_ratios.index = dimensions\n",
    "variance_ratios['Explained Variance'].sum(), scree_plot(pca)"
   ]
  },
  {
   "cell_type": "markdown",
   "metadata": {},
   "source": [
    "#### Normilize the data (if not using PCA)"
   ]
  },
  {
   "cell_type": "markdown",
   "metadata": {},
   "source": [
    "If we are not using the PCA components we created above we will need to normalize the data we have before performing the modeling."
   ]
  },
  {
   "cell_type": "code",
   "execution_count": 48,
   "metadata": {},
   "outputs": [],
   "source": [
    "X_standard = StandardScaler().fit_transform(X)"
   ]
  },
  {
   "cell_type": "code",
   "execution_count": 49,
   "metadata": {},
   "outputs": [],
   "source": [
    "X_standard = pd.DataFrame(X_standard, index=X.index, columns=X.columns)"
   ]
  },
  {
   "cell_type": "code",
   "execution_count": 50,
   "metadata": {},
   "outputs": [
    {
     "data": {
      "text/html": [
       "<div>\n",
       "<style scoped>\n",
       "    .dataframe tbody tr th:only-of-type {\n",
       "        vertical-align: middle;\n",
       "    }\n",
       "\n",
       "    .dataframe tbody tr th {\n",
       "        vertical-align: top;\n",
       "    }\n",
       "\n",
       "    .dataframe thead th {\n",
       "        text-align: right;\n",
       "    }\n",
       "</style>\n",
       "<table border=\"1\" class=\"dataframe\">\n",
       "  <thead>\n",
       "    <tr style=\"text-align: right;\">\n",
       "      <th></th>\n",
       "      <th>price</th>\n",
       "      <th>country_Armenia</th>\n",
       "      <th>country_Australia</th>\n",
       "      <th>country_Austria</th>\n",
       "      <th>country_Bosnia and Herzegovina</th>\n",
       "      <th>country_Brazil</th>\n",
       "      <th>country_Bulgaria</th>\n",
       "      <th>country_Canada</th>\n",
       "      <th>country_Chile</th>\n",
       "      <th>country_China</th>\n",
       "      <th>...</th>\n",
       "      <th>province_Western Australia</th>\n",
       "      <th>province_Western Cape</th>\n",
       "      <th>province_Wiener Gemischter Satz</th>\n",
       "      <th>province_Württemberg</th>\n",
       "      <th>province_Zenata</th>\n",
       "      <th>province_Österreichischer Perlwein</th>\n",
       "      <th>province_Österreichischer Sekt</th>\n",
       "      <th>province_Štajerska</th>\n",
       "      <th>province_Župa</th>\n",
       "      <th>province_nan</th>\n",
       "    </tr>\n",
       "  </thead>\n",
       "  <tbody>\n",
       "    <tr>\n",
       "      <th>1</th>\n",
       "      <td>-0.496422</td>\n",
       "      <td>-0.004067</td>\n",
       "      <td>-0.139064</td>\n",
       "      <td>-0.153938</td>\n",
       "      <td>-0.004067</td>\n",
       "      <td>-0.019719</td>\n",
       "      <td>-0.034168</td>\n",
       "      <td>-0.045881</td>\n",
       "      <td>-0.194694</td>\n",
       "      <td>-0.002876</td>\n",
       "      <td>...</td>\n",
       "      <td>-0.048606</td>\n",
       "      <td>-0.047744</td>\n",
       "      <td>-0.01438</td>\n",
       "      <td>-0.01349</td>\n",
       "      <td>-0.012536</td>\n",
       "      <td>-0.005752</td>\n",
       "      <td>-0.022466</td>\n",
       "      <td>-0.01349</td>\n",
       "      <td>-0.008134</td>\n",
       "      <td>0.0</td>\n",
       "    </tr>\n",
       "    <tr>\n",
       "      <th>2</th>\n",
       "      <td>-0.520794</td>\n",
       "      <td>-0.004067</td>\n",
       "      <td>-0.139064</td>\n",
       "      <td>-0.153938</td>\n",
       "      <td>-0.004067</td>\n",
       "      <td>-0.019719</td>\n",
       "      <td>-0.034168</td>\n",
       "      <td>-0.045881</td>\n",
       "      <td>-0.194694</td>\n",
       "      <td>-0.002876</td>\n",
       "      <td>...</td>\n",
       "      <td>-0.048606</td>\n",
       "      <td>-0.047744</td>\n",
       "      <td>-0.01438</td>\n",
       "      <td>-0.01349</td>\n",
       "      <td>-0.012536</td>\n",
       "      <td>-0.005752</td>\n",
       "      <td>-0.022466</td>\n",
       "      <td>-0.01349</td>\n",
       "      <td>-0.008134</td>\n",
       "      <td>0.0</td>\n",
       "    </tr>\n",
       "    <tr>\n",
       "      <th>3</th>\n",
       "      <td>-0.545166</td>\n",
       "      <td>-0.004067</td>\n",
       "      <td>-0.139064</td>\n",
       "      <td>-0.153938</td>\n",
       "      <td>-0.004067</td>\n",
       "      <td>-0.019719</td>\n",
       "      <td>-0.034168</td>\n",
       "      <td>-0.045881</td>\n",
       "      <td>-0.194694</td>\n",
       "      <td>-0.002876</td>\n",
       "      <td>...</td>\n",
       "      <td>-0.048606</td>\n",
       "      <td>-0.047744</td>\n",
       "      <td>-0.01438</td>\n",
       "      <td>-0.01349</td>\n",
       "      <td>-0.012536</td>\n",
       "      <td>-0.005752</td>\n",
       "      <td>-0.022466</td>\n",
       "      <td>-0.01349</td>\n",
       "      <td>-0.008134</td>\n",
       "      <td>0.0</td>\n",
       "    </tr>\n",
       "    <tr>\n",
       "      <th>4</th>\n",
       "      <td>0.722172</td>\n",
       "      <td>-0.004067</td>\n",
       "      <td>-0.139064</td>\n",
       "      <td>-0.153938</td>\n",
       "      <td>-0.004067</td>\n",
       "      <td>-0.019719</td>\n",
       "      <td>-0.034168</td>\n",
       "      <td>-0.045881</td>\n",
       "      <td>-0.194694</td>\n",
       "      <td>-0.002876</td>\n",
       "      <td>...</td>\n",
       "      <td>-0.048606</td>\n",
       "      <td>-0.047744</td>\n",
       "      <td>-0.01438</td>\n",
       "      <td>-0.01349</td>\n",
       "      <td>-0.012536</td>\n",
       "      <td>-0.005752</td>\n",
       "      <td>-0.022466</td>\n",
       "      <td>-0.01349</td>\n",
       "      <td>-0.008134</td>\n",
       "      <td>0.0</td>\n",
       "    </tr>\n",
       "    <tr>\n",
       "      <th>5</th>\n",
       "      <td>-0.496422</td>\n",
       "      <td>-0.004067</td>\n",
       "      <td>-0.139064</td>\n",
       "      <td>-0.153938</td>\n",
       "      <td>-0.004067</td>\n",
       "      <td>-0.019719</td>\n",
       "      <td>-0.034168</td>\n",
       "      <td>-0.045881</td>\n",
       "      <td>-0.194694</td>\n",
       "      <td>-0.002876</td>\n",
       "      <td>...</td>\n",
       "      <td>-0.048606</td>\n",
       "      <td>-0.047744</td>\n",
       "      <td>-0.01438</td>\n",
       "      <td>-0.01349</td>\n",
       "      <td>-0.012536</td>\n",
       "      <td>-0.005752</td>\n",
       "      <td>-0.022466</td>\n",
       "      <td>-0.01349</td>\n",
       "      <td>-0.008134</td>\n",
       "      <td>0.0</td>\n",
       "    </tr>\n",
       "  </tbody>\n",
       "</table>\n",
       "<p>5 rows × 465 columns</p>\n",
       "</div>"
      ],
      "text/plain": [
       "      price  country_Armenia  country_Australia  country_Austria  \\\n",
       "1 -0.496422        -0.004067          -0.139064        -0.153938   \n",
       "2 -0.520794        -0.004067          -0.139064        -0.153938   \n",
       "3 -0.545166        -0.004067          -0.139064        -0.153938   \n",
       "4  0.722172        -0.004067          -0.139064        -0.153938   \n",
       "5 -0.496422        -0.004067          -0.139064        -0.153938   \n",
       "\n",
       "   country_Bosnia and Herzegovina  country_Brazil  country_Bulgaria  \\\n",
       "1                       -0.004067       -0.019719         -0.034168   \n",
       "2                       -0.004067       -0.019719         -0.034168   \n",
       "3                       -0.004067       -0.019719         -0.034168   \n",
       "4                       -0.004067       -0.019719         -0.034168   \n",
       "5                       -0.004067       -0.019719         -0.034168   \n",
       "\n",
       "   country_Canada  country_Chile  country_China  ...  \\\n",
       "1       -0.045881      -0.194694      -0.002876  ...   \n",
       "2       -0.045881      -0.194694      -0.002876  ...   \n",
       "3       -0.045881      -0.194694      -0.002876  ...   \n",
       "4       -0.045881      -0.194694      -0.002876  ...   \n",
       "5       -0.045881      -0.194694      -0.002876  ...   \n",
       "\n",
       "   province_Western Australia  province_Western Cape  \\\n",
       "1                   -0.048606              -0.047744   \n",
       "2                   -0.048606              -0.047744   \n",
       "3                   -0.048606              -0.047744   \n",
       "4                   -0.048606              -0.047744   \n",
       "5                   -0.048606              -0.047744   \n",
       "\n",
       "   province_Wiener Gemischter Satz  province_Württemberg  province_Zenata  \\\n",
       "1                         -0.01438              -0.01349        -0.012536   \n",
       "2                         -0.01438              -0.01349        -0.012536   \n",
       "3                         -0.01438              -0.01349        -0.012536   \n",
       "4                         -0.01438              -0.01349        -0.012536   \n",
       "5                         -0.01438              -0.01349        -0.012536   \n",
       "\n",
       "   province_Österreichischer Perlwein  province_Österreichischer Sekt  \\\n",
       "1                           -0.005752                       -0.022466   \n",
       "2                           -0.005752                       -0.022466   \n",
       "3                           -0.005752                       -0.022466   \n",
       "4                           -0.005752                       -0.022466   \n",
       "5                           -0.005752                       -0.022466   \n",
       "\n",
       "   province_Štajerska  province_Župa  province_nan  \n",
       "1            -0.01349      -0.008134           0.0  \n",
       "2            -0.01349      -0.008134           0.0  \n",
       "3            -0.01349      -0.008134           0.0  \n",
       "4            -0.01349      -0.008134           0.0  \n",
       "5            -0.01349      -0.008134           0.0  \n",
       "\n",
       "[5 rows x 465 columns]"
      ]
     },
     "execution_count": 50,
     "metadata": {},
     "output_type": "execute_result"
    }
   ],
   "source": [
    "X_standard.head()"
   ]
  },
  {
   "cell_type": "markdown",
   "metadata": {},
   "source": [
    "#### Conclusion"
   ]
  },
  {
   "cell_type": "markdown",
   "metadata": {},
   "source": [
    "Using PCA we can create new features that will explain about 50% of the variance in the dataset. We will try this approach below and see if we get good results. Otherwise we have now normalized the data and it is ready to be modeled around."
   ]
  },
  {
   "cell_type": "markdown",
   "metadata": {},
   "source": [
    "### 9. Create training and test data sets"
   ]
  },
  {
   "cell_type": "markdown",
   "metadata": {},
   "source": [
    "Splitting data in train, test for both explanatory and response values. First for the PCA data and then the original normalized data. "
   ]
  },
  {
   "cell_type": "code",
   "execution_count": 51,
   "metadata": {},
   "outputs": [],
   "source": [
    "#Split into train and test - PCA data\n",
    "X_train_PCA, X_test_PCA, y_train_PCA, y_test_PCA = train_test_split(X_pca, y, test_size=0.3, random_state=9)\n"
   ]
  },
  {
   "cell_type": "code",
   "execution_count": 52,
   "metadata": {},
   "outputs": [],
   "source": [
    "#Split into train and test - Normalized data\n",
    "X_train, X_test, y_train, y_test = train_test_split(X_standard, y, test_size=0.3, random_state=9)\n"
   ]
  },
  {
   "cell_type": "markdown",
   "metadata": {},
   "source": [
    "### 10. Instantiate a Learning models, Predict and Score "
   ]
  },
  {
   "cell_type": "markdown",
   "metadata": {},
   "source": [
    "To predict the ratings(points) I will try 4 different machine learning models. I will also measure the accuracy of the different models to compare them against each other and in the end pick the one that performs the best. \n",
    "1. Linear Regression \n",
    "2. Logistic Regression\n",
    "3. Decision Tree - Random Forest\n",
    "4. SVM - Support Vector Machine\n",
    "5. Naive Bayes - Gaussian"
   ]
  },
  {
   "cell_type": "code",
   "execution_count": 53,
   "metadata": {},
   "outputs": [],
   "source": [
    "# Import the four supervised learning models from sklearn\n",
    "from sklearn.ensemble import RandomForestClassifier\n",
    "from sklearn.naive_bayes import GaussianNB\n",
    "from sklearn.svm import SVC\n",
    "from sklearn.linear_model import LogisticRegression\n",
    "from sklearn.linear_model import LinearRegression"
   ]
  },
  {
   "cell_type": "code",
   "execution_count": 54,
   "metadata": {},
   "outputs": [],
   "source": [
    "# Scoring imports\n",
    "from sklearn.metrics import fbeta_score \n",
    "from sklearn.metrics import accuracy_score\n",
    "from sklearn.metrics import classification_report\n",
    "from sklearn.metrics import mean_absolute_error\n",
    "from sklearn.metrics import mean_squared_error\n",
    "from sklearn.metrics import r2_score"
   ]
  },
  {
   "cell_type": "code",
   "execution_count": 65,
   "metadata": {},
   "outputs": [],
   "source": [
    "def evaluation_model(X_train, y_train, X_test, y_test, type_model, model) :\n",
    "    # model selection\n",
    "    if type_model == 'linear' :\n",
    "        model = LinearRegression()\n",
    "    elif type_model == 'classification' :       \n",
    "        if model == 'log':\n",
    "            model = LogisticRegression()\n",
    "        elif model == 'random':\n",
    "            model = RandomForestClassifier()\n",
    "        elif model == 'SVM':\n",
    "            model = SVC()\n",
    "        elif model == 'GNB':\n",
    "            model = GaussianNB()\n",
    "        else :\n",
    "            print('You did not pick a model.... please try again..')\n",
    "    else : \n",
    "        print('You did not pick a model type.... please try again..')\n",
    "    \n",
    "    # fit model\n",
    "    model = model.fit(X_train, y_train)\n",
    "\n",
    "    # predictions\n",
    "    pred_train = model.predict(X_train[:300])\n",
    "    pred_test = model.predict(X_test)\n",
    "    \n",
    "    # evaluation metrics - linear\n",
    "    \n",
    "    if type_model == 'linear' :\n",
    "        \n",
    "        # mean absolute error\n",
    "        mae_results_train = mean_absolute_error(y_train[:300], pred_train)\n",
    "        mae_results_test = mean_absolute_error(y_test, pred_test)\n",
    "        \n",
    "        # mean squared error\n",
    "        mse_results_train = mean_squared_error(y_train[:300], pred_train)\n",
    "        mse_results_test = mean_squared_error(y_test, pred_test)\n",
    "        \n",
    "        # r2score\n",
    "        r2score_results_train = r2_score(y_train[:300], pred_train)\n",
    "        r2score_results_test = r2_score(y_test, pred_test)\n",
    "        \n",
    "        print('Mean Absolute Error - training results:')\n",
    "        print(mae_results_train)\n",
    "        print('-----------------------')\n",
    "        print('Mean Absolute Error - test results:')\n",
    "        print(mae_results_test)\n",
    "        print('-----------------------')\n",
    "        \n",
    "        print('Mean Squared Error - training results:')\n",
    "        print(mse_results_train)\n",
    "        print('-----------------------')\n",
    "        print('Mean Squared Error - test results:')\n",
    "        print(mse_results_test)\n",
    "        print('-----------------------')\n",
    "        \n",
    "        print('r2score training results:')\n",
    "        print(r2score_results_train)\n",
    "        print('-----------------------')\n",
    "        print('r2score test results:')\n",
    "        print(r2score_results_test)\n",
    "        print('-----------------------')\n",
    "    \n",
    "    # evaluation metrics - classification\n",
    "    \n",
    "    else :\n",
    "\n",
    "        #fbeta score\n",
    "        fbeta_trainning_results = fbeta_score(y_train[:300], pred_train, 0.5, average='weighted')\n",
    "        fbeta_test_results = fbeta_score(y_test, pred_test, 0.5, average='weighted')\n",
    "\n",
    "        #accuracy_score\n",
    "        acc_training_results = accuracy_score(y_train[:300], pred_train)\n",
    "        acc_test_results = accuracy_score(y_test, pred_test)\n",
    "\n",
    "        print('fbeta training results:')\n",
    "        print(fbeta_trainning_results)\n",
    "        print('-----------------------')\n",
    "        print('fbeta test results:')\n",
    "        print(fbeta_test_results)\n",
    "        print('-----------------------')\n",
    "        print('accuracy training results:')\n",
    "        print(acc_training_results)\n",
    "        print('-----------------------')\n",
    "        print('accuracy test results:')\n",
    "        print(acc_test_results)"
   ]
  },
  {
   "cell_type": "markdown",
   "metadata": {},
   "source": [
    "#### Classification models"
   ]
  },
  {
   "cell_type": "markdown",
   "metadata": {},
   "source": [
    "Random Forest"
   ]
  },
  {
   "cell_type": "code",
   "execution_count": 66,
   "metadata": {},
   "outputs": [
    {
     "name": "stdout",
     "output_type": "stream",
     "text": [
      "fbeta training results:\n",
      "1.0\n",
      "-----------------------\n",
      "fbeta test results:\n",
      "0.9775093962395736\n",
      "-----------------------\n",
      "accuracy training results:\n",
      "1.0\n",
      "-----------------------\n",
      "accuracy test results:\n",
      "0.9776981392143349\n"
     ]
    }
   ],
   "source": [
    "evaluation_model(X_train_PCA, y_train_PCA, X_test_PCA, y_test_PCA, 'classification', 'random')"
   ]
  },
  {
   "cell_type": "code",
   "execution_count": 67,
   "metadata": {},
   "outputs": [
    {
     "name": "stdout",
     "output_type": "stream",
     "text": [
      "fbeta training results:\n",
      "0.2943794314924068\n",
      "-----------------------\n",
      "fbeta test results:\n",
      "0.17893016230711004\n",
      "-----------------------\n",
      "accuracy training results:\n",
      "0.26666666666666666\n",
      "-----------------------\n",
      "accuracy test results:\n",
      "0.18776016540317023\n"
     ]
    },
    {
     "name": "stderr",
     "output_type": "stream",
     "text": [
      "/miniconda3/lib/python3.6/site-packages/sklearn/metrics/classification.py:1437: UndefinedMetricWarning: F-score is ill-defined and being set to 0.0 in labels with no predicted samples.\n",
      "  'precision', 'predicted', average, warn_for)\n",
      "/miniconda3/lib/python3.6/site-packages/sklearn/metrics/classification.py:1437: UndefinedMetricWarning: F-score is ill-defined and being set to 0.0 in labels with no predicted samples.\n",
      "  'precision', 'predicted', average, warn_for)\n"
     ]
    }
   ],
   "source": [
    "evaluation_model(X_train, y_train, X_test, y_test, 'classification', 'random')"
   ]
  },
  {
   "cell_type": "markdown",
   "metadata": {},
   "source": [
    "Logistic Regression"
   ]
  },
  {
   "cell_type": "code",
   "execution_count": 61,
   "metadata": {},
   "outputs": [
    {
     "name": "stdout",
     "output_type": "stream",
     "text": [
      "fbeta training results:\n",
      "0.24333333333333337\n",
      "-----------------------\n",
      "fbeta test results:\n",
      "0.2743487250172295\n",
      "-----------------------\n",
      "accuracy training results:\n",
      "0.24333333333333335\n",
      "-----------------------\n",
      "accuracy test results:\n",
      "0.2743487250172295\n"
     ]
    },
    {
     "name": "stderr",
     "output_type": "stream",
     "text": [
      "/miniconda3/lib/python3.6/site-packages/sklearn/svm/base.py:929: ConvergenceWarning: Liblinear failed to converge, increase the number of iterations.\n",
      "  \"the number of iterations.\", ConvergenceWarning)\n"
     ]
    }
   ],
   "source": [
    "evaluation_model(X_train_PCA, y_train_PCA, X_test_PCA, y_test_PCA, 'classification' ,'log')"
   ]
  },
  {
   "cell_type": "code",
   "execution_count": 64,
   "metadata": {},
   "outputs": [
    {
     "name": "stdout",
     "output_type": "stream",
     "text": [
      "fbeta training results:\n",
      "0.17333333333333334\n",
      "-----------------------\n",
      "fbeta test results:\n",
      "0.16986905582356995\n",
      "-----------------------\n",
      "accuracy training results:\n",
      "0.17333333333333334\n",
      "-----------------------\n",
      "accuracy test results:\n",
      "0.16986905582356995\n"
     ]
    }
   ],
   "source": [
    "evaluation_model(X_train, y_train, X_test, y_test,'classification','log')"
   ]
  },
  {
   "cell_type": "markdown",
   "metadata": {},
   "source": [
    "Gaussian NB"
   ]
  },
  {
   "cell_type": "code",
   "execution_count": 62,
   "metadata": {},
   "outputs": [
    {
     "name": "stdout",
     "output_type": "stream",
     "text": [
      "fbeta training results:\n",
      "0.013333333333333334\n",
      "-----------------------\n",
      "fbeta test results:\n",
      "0.009235010337698139\n",
      "-----------------------\n",
      "accuracy training results:\n",
      "0.013333333333333334\n",
      "-----------------------\n",
      "accuracy test results:\n",
      "0.009235010337698139\n"
     ]
    }
   ],
   "source": [
    "evaluation_model(X_train_PCA, y_train_PCA, X_test_PCA, y_test_PCA, 'classification', 'GNB')"
   ]
  },
  {
   "cell_type": "code",
   "execution_count": 63,
   "metadata": {},
   "outputs": [
    {
     "name": "stdout",
     "output_type": "stream",
     "text": [
      "fbeta training results:\n",
      "0.006666666666666667\n",
      "-----------------------\n",
      "fbeta test results:\n",
      "0.005403170227429358\n",
      "-----------------------\n",
      "accuracy training results:\n",
      "0.006666666666666667\n",
      "-----------------------\n",
      "accuracy test results:\n",
      "0.005403170227429359\n"
     ]
    }
   ],
   "source": [
    "evaluation_model(X_train, y_train, X_test, y_test, 'classification', 'GNB')"
   ]
  },
  {
   "cell_type": "markdown",
   "metadata": {},
   "source": [
    "Support Vector Machine"
   ]
  },
  {
   "cell_type": "code",
   "execution_count": null,
   "metadata": {},
   "outputs": [],
   "source": [
    "evaluation_model(X_train_PCA, y_train_PCA, X_test_PCA, y_test_PCA, 'classification', 'SVM')"
   ]
  },
  {
   "cell_type": "code",
   "execution_count": null,
   "metadata": {},
   "outputs": [],
   "source": [
    "evaluation_model(X_train, y_train, X_test, y_test, 'classification', 'SVM')"
   ]
  },
  {
   "cell_type": "markdown",
   "metadata": {},
   "source": [
    "#### Linear Models"
   ]
  },
  {
   "cell_type": "markdown",
   "metadata": {},
   "source": [
    "Linear Regression"
   ]
  },
  {
   "cell_type": "code",
   "execution_count": 59,
   "metadata": {},
   "outputs": [
    {
     "name": "stdout",
     "output_type": "stream",
     "text": [
      "Mean Absolute training results:\n",
      "1.5174869945734868\n",
      "-----------------------\n",
      "Mean Absolute test results:\n",
      "1.4429873839161402\n",
      "-----------------------\n",
      "Mean Squared training results:\n",
      "4.589096075031801\n",
      "-----------------------\n",
      "Mean Squared test results:\n",
      "3.608067934087226\n",
      "-----------------------\n",
      "r2score training results:\n",
      "0.5319605020229476\n",
      "-----------------------\n",
      "r2score test results:\n",
      "0.6150267313417386\n",
      "-----------------------\n"
     ]
    }
   ],
   "source": [
    "evaluation_model(X_train_PCA, y_train_PCA, X_test_PCA, y_test_PCA, 'linear', 'linear')"
   ]
  },
  {
   "cell_type": "code",
   "execution_count": 68,
   "metadata": {},
   "outputs": [
    {
     "name": "stdout",
     "output_type": "stream",
     "text": [
      "Mean Absolute Error - training results:\n",
      "2.2323388671875\n",
      "-----------------------\n",
      "Mean Absolute Error - test results:\n",
      "1801844756896.5098\n",
      "-----------------------\n",
      "Mean Squared Error - training results:\n",
      "8.573716569741567\n",
      "-----------------------\n",
      "Mean Squared Error - test results:\n",
      "1.1355337281299952e+28\n",
      "-----------------------\n",
      "r2score training results:\n",
      "0.12557115094358295\n",
      "-----------------------\n",
      "r2score test results:\n",
      "-1.2115906323712189e+27\n",
      "-----------------------\n"
     ]
    }
   ],
   "source": [
    "evaluation_model(X_train, y_train, X_test, y_test, 'linear', 'linear')"
   ]
  },
  {
   "cell_type": "markdown",
   "metadata": {},
   "source": [
    "### 11. Conclusions"
   ]
  },
  {
   "cell_type": "markdown",
   "metadata": {},
   "source": [
    "* Clearly the Randomforest model is the best choice here with a accuracy of 0.977 and fbeta score of 0.977 on the test data. Notable here is the fact that these results came using the PCA derived featues (200 of them) and not using the normalized original data. \n",
    "<br><br>\n",
    "* All models performed better with the PCA engineered features.\n",
    "<br><br>\n",
    "* The linear model did not do that bad with a r2 score of 0.61 on the test data. \n",
    "<br><br>\n",
    "* The worst model was the Gaussian Navie Bias model with very low results. \n",
    "<br><br>\n",
    "* I shut down the SVM model training as it took too long to compute. This was not to bad as we already got a very good score for the Random Forest."
   ]
  },
  {
   "cell_type": "code",
   "execution_count": null,
   "metadata": {},
   "outputs": [],
   "source": []
  }
 ],
 "metadata": {
  "kernelspec": {
   "display_name": "Python 3",
   "language": "python",
   "name": "python3"
  },
  "language_info": {
   "codemirror_mode": {
    "name": "ipython",
    "version": 3
   },
   "file_extension": ".py",
   "mimetype": "text/x-python",
   "name": "python",
   "nbconvert_exporter": "python",
   "pygments_lexer": "ipython3",
   "version": "3.6.8"
  }
 },
 "nbformat": 4,
 "nbformat_minor": 2
}
